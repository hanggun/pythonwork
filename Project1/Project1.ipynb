{
 "cells": [
  {
   "cell_type": "markdown",
   "metadata": {},
   "source": [
    "# Project Instruction\n",
    "\n",
    "- Please rename this file so that you know which copy you have been working in. Keep a copy safe (especially if you are working in the online Jupyter service). You can download a copy by choosing -File- then -Download as- Notebook from the menu above. \n",
    "- Complete all of the tasks. \n",
    "- Make sure your code is readable, organised, and commented appropriately."
   ]
  },
  {
   "cell_type": "markdown",
   "metadata": {},
   "source": [
    "---"
   ]
  },
  {
   "cell_type": "markdown",
   "metadata": {},
   "source": [
    "## Task 1 - Code review"
   ]
  },
  {
   "cell_type": "markdown",
   "metadata": {},
   "source": [
    "This task is to write a code review, *not* to write python code to solve the problem brief.  \n",
    "\n",
    "A colleague has been asked to write a program to calculate a root of a continuous function using the **bisection method** as described in the following brief:\n",
    "\n",
    "---\n",
    "\n",
    "### Brief\n",
    "\n",
    "The bisection method is a simple numerical technique to find a root of a continuous function in an interval where this function changes sign. According to [Intermediate value theorem](https://en.wikipedia.org/wiki/Intermediate_value_theorem), the continuous function $f=f(x)$ has at least one root in the interval $[a, b]$, if $f(a)f(b) \\leq 0$. Utilising this fact, the following 3-step algorithm will find the root of such function within a desired accuracy:\n",
    "\n",
    "1. Calculate the midpoint $c = (a+b)/2$ and evaluate the function at this point $f(c)$.\n",
    "2. If $ (b-a)/2 < \\epsilon_1 $ or $|f(c)| < \\epsilon_2 $, then return $c$ as the root and stop. \n",
    "3. Otherwise, depending on the sign of $f(c)$ replace either $a$ or $b$ with $c$, such that $f(a)f(b) < 0$ for the new $a$ and $b$. Then go to step 1.\n",
    "\n",
    "The criteria introduced in step 2 ensures the difference between the answer and the real root to be less than $\\epsilon_1$ or _that_ the function value at the answer is smaller than $\\epsilon_2$ (so it can be considered an approximate root). You are supposed to write a function that takes $a$, $b$, $\\epsilon_1$ and $\\epsilon_2$ as inputs and returns a root using the bisection method. \n",
    "\n",
    "Note that the bisection method does not guarantee or detect a change of sign in an interval if the two end points have similar signs. Hence, your program should first search for some subinterval where the function changes sign. This can be achieved by halving the intervals consecutively until in one of the smaller subinterval the function changes sign. If no such an interval is found while the size of the smallest interval is still bigger than $\\epsilon_1$, the function returns 'None' and prints out \"failed to find a root\". \n",
    "\n",
    "Test your code for a continuous function on a given interval.  \n",
    "\n",
    "### Your task:\n",
    "\n",
    "You have been asked to write a review of their code. Here is the code they wrote:"
   ]
  },
  {
   "cell_type": "code",
   "execution_count": 2,
   "metadata": {},
   "outputs": [
    {
     "name": "stdout",
     "output_type": "stream",
     "text": [
      "1.0\n",
      "the root is 1.0\n"
     ]
    }
   ],
   "source": [
    "from math import *\n",
    "\n",
    "def root_finder(a,b,eps1,eps2):\n",
    "# First find an interval where the function changes sign\n",
    "    if ff(a)*ff(b)>0:\n",
    "        findinterval = 0\n",
    "    else:\n",
    "            findinterval = 1\n",
    "        \n",
    "    n = 2;\n",
    "    while (findinterval == 0) and ( (b-a)/n > eps1):\n",
    "        subintervals =[a + i*(b-a)/n for i in range(n+1)]\n",
    "        print(subintervals)\n",
    "        n *= 2\n",
    "        for j in range(n):\n",
    "            i = j + 1\n",
    "            if (ff(subintervals[i])<0):\n",
    "                a = subintervals[i-1]\n",
    "                b = subintervals[i]\n",
    "                findinterval = 1.0\n",
    "                break\n",
    "   \n",
    "        \n",
    "    if (findinterval == 0):\n",
    "        print(\"failed to find a root\")\n",
    "    else:\n",
    "        # implement the bisection method\n",
    "        if (abs(ff(a))<eps2): # check if a or b are roots:\n",
    "            return a\n",
    "        if (abs(ff(b))<eps2):\n",
    "            # print(b)\n",
    "            return b\n",
    "        while ((b-a) > eps1): \n",
    "            c = (a+b)/2\n",
    "            print(c)\n",
    "            if (ff(c)<eps2):\n",
    "                return c\n",
    "            else:\n",
    "                if ff(b)*ff(c)>0:\n",
    "                    b = c\n",
    "                else:\n",
    "                        a = c\n",
    "        return c\n",
    "    \n",
    "                                \n",
    "def ff(x):\n",
    "    y = x**2-5*x+4 \n",
    "    # y = sin(2*pi*x)\n",
    "    return y\n",
    "    \n",
    " # Test for x^2-5x+4 from 0 to 2 \n",
    "my_root = root_finder(0,2,.0001,0.00001)\n",
    "print('the root is', my_root)"
   ]
  },
  {
   "cell_type": "markdown",
   "metadata": {},
   "source": [
    "You should write your review here. \n",
    "Things you could choose to discuss:\n",
    "- Code structure \n",
    "- Code style\n",
    "- Does it answer the brief?\n",
    "- Does it work? If not_,_ could it be fixed?\n",
    "- Can you explain what it does?\n",
    "\n",
    "Keep your answer relatively brief (approx. 500 words)."
   ]
  },
  {
   "cell_type": "markdown",
   "metadata": {},
   "source": [
    "### Answer:"
   ]
  },
  {
   "cell_type": "markdown",
   "metadata": {},
   "source": [
    "This code can work for most of inputs. But for some inputs, they will get wrong anwsers and even send errors. There are three problems in this code:\n",
    "\n",
    "The first one is when input **`(a=0,b=3)`**, it gives the wrong root of **`1.5`**. This problem arises because the value of **`ff(c)`** at midpoint **`1.5`** is negtive and definitely less than $esp1$. It can be fixed by adding **`abs()`** to **`ff(c)`** so that the condition is **`abs(ff(c))<eps2`**.\n",
    "\n",
    "The scecond one is when input **`(a=0,b=100)`**, it gives the error message of **`\"list index out of range\"`**. This is due to the number of value in **`subintervals`** is **`n+1`**, but in for loop, the number in index is **`2n-1`**. To fix this problem, I will use **`range(len(subintervals))`** insread **`range(n)`** and change **`i=j+1`** to **`i=j`**. it is feasible because **`list[-1]`** represent the last number in list.\n",
    "\n",
    "The last one is when input **`(a=1.5,b=2.5)`**, it gives the root of 1.75. This should not happen because there is no root between them. And the value at this two points are both negtive, this will also cause some problems. We can fix it by changing the condition **`ff(subintervals[i])<0`** to **`ff(subintervals[i-1])<0 and ff(subintervals[i])>0`**.\n",
    "\n",
    "Through three changes provided above, this code can get the root for any input.\n",
    "\n",
    "From the code style aspect, the comment is concise and easy to understand. However, this code may cause some problems and can be more readable in some aspects. Since python cares about indentation, in the **`if-statement`**, the code is better to have a proper indentation. there are two places used $print$ function and no description to the outputs. Instead just print out the value, it will be better to add descriptions like **`\"The subintervals are:\"`** and **`\"the midpoints are:\"`** to the **`print`** function. It is also better not to use **`from math import *`**, because it will make the names in namespace unclear.\n",
    "\n",
    "The code can be devided into two part. The first part is used to find a proper interval where the root is inside the interval. After the searching part, there will be two choices in the second part, either find or not. The second part is using bisection method to find the root from the proper interval. The code works as below:\n",
    "\n",
    "1: Check whether the value of interval has different sign\n",
    "\n",
    "2: **while** the interval does not have different sign **and** the piece length of original interval is greater than $esp1$ **do**\n",
    "\n",
    "3: &nbsp;&nbsp;&nbsp;&nbsp;devide interval to n pieces and create subintervals in culmulative way\n",
    "\n",
    "4: &nbsp;&nbsp;&nbsp;&nbsp;n becomes twice of its own\n",
    "\n",
    "5: &nbsp;&nbsp;&nbsp;&nbsp;find subintervals with different sign in above data set\n",
    "\n",
    "6: **end while**\n",
    "\n",
    "7: **if** there is not proper intervals **then**\n",
    "\n",
    "8: &nbsp;&nbsp;&nbsp;&nbsp;output \"can not find root\" derectly\n",
    "\n",
    "9:**esle**\n",
    "\n",
    "10: &nbsp;&nbsp;&nbsp;&nbsp;check whether the side points of interval are root\n",
    "\n",
    "11: &nbsp;&nbsp;&nbsp;&nbsp;**if** not\n",
    "\n",
    "12: &nbsp;&nbsp;&nbsp;&nbsp;&nbsp;&nbsp;&nbsp;&nbsp;**while** the length of intervals are greater than $esp2$ **do**\n",
    "\n",
    "13: &nbsp;&nbsp;&nbsp;&nbsp;&nbsp;&nbsp;&nbsp;&nbsp;&nbsp;&nbsp;&nbsp;&nbsp;calculate the midpoint between the interval and assign the value of midpoint to the side point which sign of function value is the same as the midpoint\n",
    "\n",
    "14: &nbsp;&nbsp;&nbsp;&nbsp;&nbsp;&nbsp;&nbsp;&nbsp;**end while**\n",
    "\n",
    "15: &nbsp;&nbsp;&nbsp;&nbsp;**end if**\n",
    "\n",
    "16: **end if**"
   ]
  },
  {
   "cell_type": "markdown",
   "metadata": {
    "collapsed": true
   },
   "source": [
    "## Task 2 - Traffic Modelling"
   ]
  },
  {
   "cell_type": "markdown",
   "metadata": {},
   "source": [
    "### Task 2a - update rule"
   ]
  },
  {
   "cell_type": "markdown",
   "metadata": {},
   "source": [
    "For this task, you will work on a model of road traffic using discretised cells, which is an example of a larger class of models in computer science called [cellular automaton](https://en.wikipedia.org/wiki/Cellular_automaton). Imagine a road that is divided into a number of cells which can contain only one car. For now, let's assume this road is one-way from left to right. We also discretise time into steps. At each step a car moves to its adjacent right cell if it is empty; otherwise, it stays where it is (see the figure below). \n",
    "\n",
    "![](schematicroad.png)\n",
    "\n",
    "We use a periodic boundary condition such that a car that moves off the right-most cell enters into the left-most cell as shown by the red arrow in the schematic above (if you like you can think of this problem as representing a roundabout rather than a straight section of a road).\n",
    "\n",
    "You should write a function that finds the position of cars in the next step given their positions in the current step. To do this systematically, we can define the numpy array `R[i,t]` that is 0 if there are no cars in the \"`i`\" section of the road, and 1 if a car is present at that section for the time step \"`t`\". \"`i`\" varies from 1 to $N$ (the total number of cells), and \"`t`\" varies from 0 to $T$. The new value `R[i,t+1]` depends on its old value at time $t$ (i.e. `R[i,t]`), and also on the old values of the neighbours (`R[i-1,t]` and `R[i+1,t]`). You might think about how you would fill out the tables below (on paper - no need to edit the table in your file) to use them to get an explicit form of the update rules (note we use notation here that `R[i,t]` is the same as $R^t(i)$ below):\n",
    "\n",
    "![](tables.png)\n",
    "\n",
    "\n",
    "To test your update function you can use the following example of a road with 9 cells. If we label the cars by their initial cell position, this demonstrates how they move in the next three steps. \n",
    "\n",
    "![](roadexample.png)\n",
    "\n",
    "The array `R`, for this example, becomes \n",
    "\n",
    "$$\n",
    "\\left(\\begin{array}{cccc}\n",
    "1 & 0 & 1 & 0\\\\\n",
    "0 & 1 & 0 & 1\\\\\n",
    "0 & 0 & 1 & 1\\\\\n",
    "1 & 1 & 1 & 0\\\\\n",
    "1 & 1 & 0 & 1\\\\\n",
    "1 & 0 & 1 & 0\\\\\n",
    "0 & 1 & 0 & 1\\\\\n",
    "0 & 0 & 1 & 0\\\\\n",
    "1 & 1 & 0 & 1\\\\\n",
    "\\end{array}\\right)\n",
    "$$\n",
    "\n",
    "Throughout this project, let's denote the total number of cells by $N$, the total number of cars by $M$ and the final time step by $T$.\n",
    "\n",
    "For the first part of this task you should write code to perform each of the following sub-tasks or markdown text to answer any discussion questions:\n",
    "\n",
    "1) Write a function **`updateR(R[i,t])`**, which takes **`R[i,t]`** at the current time step as its argument and returns the updated value **`R[i,t+1]`** for the next step. Make sure you properly implement the periodic boundary condition in this function. Test your function with the example above. Your function should work for any choice of positive integer $N>3$.\n",
    "\n",
    "2) Numbering your cells from $1$ to $N=100$, put the cars initially (at $t=0$) in those cells with a prime number index and also the cells in $(40,55]$. Calculate and print out the position of the cars at the final time $T = 400$.\n",
    "\n",
    "3) Plot the position of the cars from problem 2) in the following three time intervals: $t=[0, 20]$, $[300, 320]$ and $[380, 400]$. Discuss whether you think that the traffic reaches some steady state by the end of the simulation. What is the average velocity of all the cars at the end of the simulation? Note you can either point markers in `plot`, or use the plotting function `imshow` to create a checkerboard-like plot."
   ]
  },
  {
   "cell_type": "code",
   "execution_count": 70,
   "metadata": {
    "scrolled": true
   },
   "outputs": [
    {
     "name": "stdout",
     "output_type": "stream",
     "text": [
      "Question 1: current traffic state is \n",
      " [[1]\n",
      " [0]\n",
      " [0]\n",
      " [1]\n",
      " [1]\n",
      " [1]\n",
      " [0]\n",
      " [0]\n",
      " [1]] \n",
      " next traffic state is: \n",
      " [[0]\n",
      " [1]\n",
      " [0]\n",
      " [1]\n",
      " [1]\n",
      " [0]\n",
      " [1]\n",
      " [0]\n",
      " [1]]\n",
      "Question2: the position of the cars at 400 is: \n",
      " [[1]\n",
      " [0]\n",
      " [1]\n",
      " [0]\n",
      " [1]\n",
      " [0]\n",
      " [1]\n",
      " [0]\n",
      " [0]\n",
      " [0]\n",
      " [1]\n",
      " [0]\n",
      " [1]\n",
      " [0]\n",
      " [0]\n",
      " [1]\n",
      " [0]\n",
      " [1]\n",
      " [0]\n",
      " [1]\n",
      " [0]\n",
      " [1]\n",
      " [0]\n",
      " [1]\n",
      " [0]\n",
      " [1]\n",
      " [0]\n",
      " [1]\n",
      " [0]\n",
      " [1]\n",
      " [0]\n",
      " [1]\n",
      " [0]\n",
      " [1]\n",
      " [0]\n",
      " [1]\n",
      " [0]\n",
      " [1]\n",
      " [0]\n",
      " [1]\n",
      " [0]\n",
      " [1]\n",
      " [0]\n",
      " [1]\n",
      " [0]\n",
      " [1]\n",
      " [0]\n",
      " [1]\n",
      " [0]\n",
      " [1]\n",
      " [0]\n",
      " [1]\n",
      " [0]\n",
      " [1]\n",
      " [0]\n",
      " [0]\n",
      " [0]\n",
      " [0]\n",
      " [1]\n",
      " [0]\n",
      " [1]\n",
      " [0]\n",
      " [0]\n",
      " [0]\n",
      " [0]\n",
      " [0]\n",
      " [1]\n",
      " [0]\n",
      " [0]\n",
      " [0]\n",
      " [1]\n",
      " [0]\n",
      " [1]\n",
      " [0]\n",
      " [0]\n",
      " [0]\n",
      " [0]\n",
      " [0]\n",
      " [1]\n",
      " [0]\n",
      " [0]\n",
      " [0]\n",
      " [1]\n",
      " [0]\n",
      " [0]\n",
      " [0]\n",
      " [0]\n",
      " [0]\n",
      " [1]\n",
      " [0]\n",
      " [0]\n",
      " [0]\n",
      " [0]\n",
      " [0]\n",
      " [0]\n",
      " [0]\n",
      " [1]\n",
      " [0]\n",
      " [0]\n",
      " [0]]\n"
     ]
    }
   ],
   "source": [
    "\"\"\"\n",
    "assuming that all of the chunks are run in sequence. The later chunks may not be \n",
    "able to work independently because it used functions difined above.\n",
    "\"\"\"\n",
    "import numpy as np\n",
    "\n",
    "def updateR(traffic_model):\n",
    "    \"\"\"\n",
    "    this model will accept current state of traffic model and \n",
    "    return the next state of traffic model\n",
    "    \"\"\"\n",
    "    future_list = []\n",
    "    N = len(traffic_model)\n",
    "    for i in range(N):\n",
    "        #check whether is the final car\n",
    "        if i != N-1:\n",
    "            #check the sate of the current cell\n",
    "            if traffic_model[i] == 1:\n",
    "                #check the state of the next cell\n",
    "                if traffic_model[i+1] == 0:\n",
    "                    future_list.append(0)\n",
    "                else:\n",
    "                    future_list.append(1)\n",
    "            else:\n",
    "                #check the state of the previous cell\n",
    "                if traffic_model[i-1] == 0:\n",
    "                    future_list.append(0)\n",
    "                else:\n",
    "                    future_list.append(1)\n",
    "        else:\n",
    "            if traffic_model[i] == 1:\n",
    "                #if the final car, check the begining place\n",
    "                if traffic_model[0] == 0:\n",
    "                    future_list.append(0)\n",
    "                else:\n",
    "                    future_list.append(1)\n",
    "            else:\n",
    "                if traffic_model[i-1] == 0:\n",
    "                    future_list.append(0)\n",
    "                else:\n",
    "                    future_list.append(1)\n",
    "    return np.c_[future_list]\n",
    "\n",
    "def primes(given):\n",
    "    '''\n",
    "    this function is used to return prime number in the given input\n",
    "    '''\n",
    "    import math\n",
    "    prime = given\n",
    "    j = 0\n",
    "    cmp = prime[j]\n",
    "    final_num = prime[-1]\n",
    "    #remove each non-prime number\n",
    "    while cmp <= math.sqrt(final_num):\n",
    "        for i in prime:\n",
    "            if i != cmp:\n",
    "                if i % cmp == 0:\n",
    "                    prime.remove(i)\n",
    "        j += 1\n",
    "        cmp = prime[j]\n",
    "    return prime\n",
    "\n",
    "#question 1\n",
    "N = 9\n",
    "traffic_model = np.zeros([N, 1], dtype = int)\n",
    "traffic_model[[0, 3, 4, 5, 8]] = 1\n",
    "print(\"Question 1: current traffic state is \\n\", traffic_model,\n",
    "      \"\\n next traffic state is: \\n\", updateR(traffic_model))\n",
    "\n",
    "# question 2\n",
    "\n",
    "N1 = 100\n",
    "T = 400\n",
    "prime = primes(list(range(2, 101)))\n",
    "#because index start from 0, so make prime minus 1\n",
    "prime = list(np.array(prime) - 1)\n",
    "traffic_model1 = np.zeros([N1, 1])\n",
    "traffic_model1[prime] = 1\n",
    "traffic_model1[40:54] = 1\n",
    "#get the traffic state at Step T\n",
    "for i in range(T):\n",
    "    traffic_model1 = updateR(traffic_model1)\n",
    "print(\"Question2: the position of the cars at 400 is: \\n\", traffic_model1)\n"
   ]
  },
  {
   "cell_type": "code",
   "execution_count": 71,
   "metadata": {},
   "outputs": [
    {
     "data": {
      "image/png": "[encoded data removed]",
      "text/plain": [
       "<Figure size 1080x1440 with 3 Axes>"
      ]
     },
     "metadata": {
      "needs_background": "light"
     },
     "output_type": "display_data"
    },
    {
     "name": "stdout",
     "output_type": "stream",
     "text": [
      "Question 3: the velocity at step 400 is 1.0\n"
     ]
    }
   ],
   "source": [
    "import matplotlib.pyplot as plt\n",
    "\n",
    "T = 400\n",
    "t1 = list(range(21))\n",
    "t2 = list(range(300,321))\n",
    "t3 = list(range(380,401))\n",
    "traffic_model2 = np.zeros([N1, 1])\n",
    "traffic_model2[prime] = 1\n",
    "traffic_model2[40:55] = 1\n",
    "total_model = traffic_model2\n",
    "#store every state of traffic model in a total mdoel\n",
    "for step in range(T):\n",
    "    traffic_model2 = updateR(traffic_model2)\n",
    "    total_model = np.append(total_model, traffic_model2, axis = 1)\n",
    "\n",
    "a = total_model[:,t1]\n",
    "b = total_model[:,t2]\n",
    "c = total_model[:,t3]\n",
    "# show the picture in time interval t1\n",
    "fig1 = plt.figure(1, figsize = [15,20])\n",
    "ax1 = fig1.add_subplot(161)\n",
    "ax1.imshow(a, cmap = \"Greys\",\n",
    "           extent = [0, 20, 100, 0])\n",
    "ax1.set_ylabel('Cell Number', fontdict = {\"fontsize\": 14})\n",
    "ax1.set_xlabel(\"Step\", fontdict = {\"fontsize\": 14})\n",
    "ax1.set_title(\"traffic state between 0-20\", fontdict = {\"fontsize\": 14})\n",
    "# show the picture in time interval t2\n",
    "ax2 = fig1.add_subplot(163)\n",
    "ax2.imshow(b, cmap = \"Greys\",\n",
    "           extent = [300, 320, 100, 0])\n",
    "ax2.set_ylabel('Cell Number', fontdict = {\"fontsize\": 14})\n",
    "ax2.set_xlabel(\"Step\", fontdict = {\"fontsize\": 14})\n",
    "ax2.set_title(\"traffic state between 300-320\", fontdict = {\"fontsize\": 14})\n",
    "# show the picture in time interval t3\n",
    "ax3 = fig1.add_subplot(165)\n",
    "ax3.imshow(c, cmap = \"Greys\",\n",
    "           extent = [380, 400, 100, 0])\n",
    "ax3.set_ylabel('Cell Number', fontdict = {\"fontsize\": 14})\n",
    "ax3.set_xlabel(\"Step\", fontdict = {\"fontsize\": 14})\n",
    "ax3.set_title(\"traffic state between 380-400\", fontdict = {\"fontsize\": 14})\n",
    "plt.show()\n",
    "\n",
    "\n",
    "# question 3 discuss\n",
    "\"\"\"\n",
    "Assuming that when every car can move in current state, that means the traffic reaches a steady state.\n",
    "At the end of the simulation, each cell i which has car in it doesn't has car in cell i+1. \n",
    "So, it reaches a steady state. \n",
    "Also, from the picture of 'traffic state between 380-400', we can find the pattern is stable, \n",
    "and it proves the traffic state is already stable before the end of simulation\n",
    "\"\"\"\n",
    "\"\"\"\n",
    "Since the traffic state is steady in the end of the simulation, so it can be easily get the anwser----\n",
    "the velocity at the end of the simulation is 1. \n",
    "\n",
    "Below is a function which can get the velocity at each step.\n",
    "\"\"\"\n",
    "\n",
    "def get_velocity(traffic_model):\n",
    "    \"\"\"\n",
    "    This function will process a vector of traffic model and returns the velocity \n",
    "    at current state\n",
    "    \"\"\"\n",
    "    velocity = 0\n",
    "    total_car = 0\n",
    "    N = len(traffic_model)\n",
    "    #calculate the total number of cars and the number of cars which can move at next step\n",
    "    for i in range(N):\n",
    "        if i != N-1:\n",
    "            if traffic_model[i] == 1:\n",
    "                total_car += 1\n",
    "                if traffic_model[i+1] == 0:\n",
    "                    velocity += 1\n",
    "        else:\n",
    "            if traffic_model[i] == 1:\n",
    "                total_car += 1\n",
    "                if traffic_model[0] == 0:\n",
    "                    velocity += 1\n",
    "    return velocity / total_car\n",
    "Step = 400\n",
    "print(\"Question 3: the velocity at step\", Step, \"is\", round(get_velocity(total_model[:,Step]), 2))"
   ]
  },
  {
   "cell_type": "markdown",
   "metadata": {},
   "source": [
    "---"
   ]
  },
  {
   "cell_type": "markdown",
   "metadata": {},
   "source": [
    "### Task 2b - Trajectory of the cars and average velocity"
   ]
  },
  {
   "cell_type": "markdown",
   "metadata": {},
   "source": [
    "Storing `R[i,t]` at each time step is unnecessarily memory-consuming. Moreover, it is hard to track individual cars through the zeros and ones of `R[i,t]`. Instead, it is more efficient for many purposes to store the trajectories of each car in an array, `Traj[car,t]`, where each row records the trajectory for a different car, with the value in each successive column recording the location at each successive time step. Our next purpose is to use this array to calculate the average velocities of each car. So it is now better not to use the periodic boundary condition immediately, but to store the value of $N+1$ for the car that moves off the last cell (similarly storing the value of $N+2$ instead of 2 etc). For instance, for the 9-cell road shown in the previous figure `Traj` is constructed as below:\n",
    "\n",
    "$$\n",
    "\\left(\\begin{array}{ccc}\n",
    "1 & 2 & 3 & 3\\\\\n",
    "4 & 4 & 4 & 5\\\\\n",
    "5 & 5 & 6 & 7\\\\\n",
    "6 & 7 & 8 & 9\\\\\n",
    "9 & 9 & 10& 11\\\\\n",
    "\\end{array}\\right)\n",
    "$$\n",
    "\n",
    "To derive `Traj[:,t+1]` from `Traj[:,t]`, we only need the current column of `R` and not the entire matrix `R[0:N,0:t+1]`. Hence, we are going to only keep the vector `r[0:N]`, which is the current state of the road with empty cells represented by 0 and cells with a car by 1 (i.e. `r=R[:,t]`). Now write a new funtion **`new_position(r,Traj)`** that takes the vector `r` and the current position vector `Traj[:,t]`, and returns the next column `Traj[:,t+1]`. \n",
    "\n",
    "Using `Traj[:,t+1]` and [modular arithmetic](https://en.wikipedia.org/wiki/Modular_arithmetic) you can update `r` more easily. To update `r` from the state at `t` to `t+1` you will need to: \n",
    "\n",
    "- start a new array for `r` at `t+1` by filling `r[:]` values as zeros initially\n",
    "- take each element of `Traj[:,t+1]`\n",
    "- find the remainder when you divide that element by $N$, call it `j`\n",
    "- set `r[j-1]=1`.\n",
    "\n",
    "(Note what is happening here - you are storing the cars in cells 1 up to N in array positions indexed 0 up to N-1).\n",
    "\n",
    "Write another function **`new_updateR(Traj[:,t+1])`** that takes the trajectory at `t+1` and returns a new vector `r` without using any `if` statements using this procedure outlined above. (Note here the size of `r` is $N$ and the size of `Traj` is $M \\times T$).\n",
    "\n",
    "The speed of car `i` at time `t` can be readily calculated as **`Traj[i,t]-Traj[i,t-1]`**, which is either 0 or 1 cell per step. Write the function **`ave_vel(Traj,t)`** that takes the array of trajectories and the time step and returns the average velocity of all cars at time `t`.   \n",
    "\n",
    "Using the functions you have written; **`new_position()`**, **`new_updateR()`** and **`ave_vel()`**, complete the following list of tasks:\n",
    "\n",
    "\n",
    "1) Test your function **`new_position()`** by using the example above.\n",
    "\n",
    "2) Put $M = 15$ cars in the first fifteen cells of a road that has $N = 50$ cells. Plot the average speed of all cars as a function of time up to $T=50$. How long does it take to reach a steady average speed?\n",
    "\n",
    "3) Repeat question 2) for $M = 25$ and $M = 35$ and discuss the results. Is the final average speed the same for all $M$? Which is the largest value of $M$ for which you can reach the maximum average speed?"
   ]
  },
  {
   "cell_type": "code",
   "execution_count": 74,
   "metadata": {},
   "outputs": [
    {
     "name": "stdout",
     "output_type": "stream",
     "text": [
      "Question 1: current example traffic Traj is \n",
      " [[ 3]\n",
      " [ 4]\n",
      " [ 6]\n",
      " [ 8]\n",
      " [10]] \n",
      " next example traffic Traj is: \n",
      " [[ 3]\n",
      " [ 5]\n",
      " [ 7]\n",
      " [ 9]\n",
      " [11]]\n"
     ]
    }
   ],
   "source": [
    "def new_position(traffic_model, Traj):\n",
    "    \"\"\"\n",
    "    given a traffic vector and the car position, and this function can return\n",
    "    the next state\n",
    "    \"\"\"\n",
    "    l = len(traffic_model)\n",
    "    N = len(Traj)\n",
    "    #check the index in Traj\n",
    "    for i in range(N):\n",
    "        #check whether is the final cell\n",
    "        if Traj[i] % l != 0:\n",
    "            #check whether the cell in trojectory has car\n",
    "            if traffic_model[Traj[i] % l - 1] == 1:\n",
    "                # check whether there is car in next position\n",
    "                if traffic_model[Traj[i] % l] == 0:\n",
    "                    Traj[i] += 1\n",
    "        else:\n",
    "            #check whether there is car in final cell\n",
    "            if traffic_model[-1] == 1:\n",
    "                if traffic_model[0] == 0:\n",
    "                    Traj[i] += 1\n",
    "    return Traj\n",
    "\n",
    "def new_updateR(Traj, N):\n",
    "    \"\"\"\n",
    "    given the position of cars, the function can return the traffic vector\n",
    "    \"\"\"\n",
    "    r = np.zeros([N, 1])\n",
    "    j = np.mod(Traj, N)\n",
    "    r[j-1] = 1\n",
    "    return r\n",
    "\n",
    "def ave_vel(Traj, t):\n",
    "    \"\"\"\n",
    "    given the position of cars and time t, the function can return the velocity \n",
    "    of total cars at time t\n",
    "    \"\"\"\n",
    "    #if t is less than 0, then there is no movement of cars\n",
    "    if t <= 0:\n",
    "        return 0\n",
    "    else:\n",
    "        #velocity equal to the number of moved cars devide the number of total cars\n",
    "        velocity = np.sum(Traj[:, t]-Traj[:, t-1]) / len(Traj)\n",
    "    return velocity\n",
    "\n",
    "traffic_model = np.c_[[1,0,1,1,0,1,0,1,0]]\n",
    "Traj = np.c_[[3,4,6,8,10]]\n",
    "print(\"Question 1: current example traffic Traj is \\n\", Traj, \n",
    "      \"\\n next example traffic Traj is: \\n\", new_position(traffic_model, Traj.copy()))"
   ]
  },
  {
   "cell_type": "code",
   "execution_count": 75,
   "metadata": {},
   "outputs": [
    {
     "data": {
      "image/png": "[encoded data removed]",
      "text/plain": [
       "<Figure size 432x288 with 1 Axes>"
      ]
     },
     "metadata": {
      "needs_background": "light"
     },
     "output_type": "display_data"
    },
    {
     "name": "stdout",
     "output_type": "stream",
     "text": [
      "Question 2: it takes 14 steps for this traffic model to get an average steady speed. \n"
     ]
    }
   ],
   "source": [
    "# the number of cars\n",
    "M = 15\n",
    "# the number of cells\n",
    "N = 50\n",
    "#the number of steps\n",
    "T = 50\n",
    "traffic_model = np.zeros([50,1], dtype = int)\n",
    "traffic_model[list(range(M))] = 1\n",
    "Traj = np.c_[([i+1 for i in range(N) if traffic_model[i] == 1])]\n",
    "def get_Traj(traffic_model, Traj, T):\n",
    "    \"\"\"\n",
    "    This function takes the traffic model vector, traffic position and\n",
    "    the End simulation time, and returns the total trajectory of traffic \n",
    "    model in time T.\n",
    "    \"\"\"\n",
    "    N = len(traffic_model)\n",
    "    Total_Traj = Traj.copy()\n",
    "    for i in range(T):\n",
    "        #update the traffic position at each step\n",
    "        Traj = new_position(traffic_model, Traj)\n",
    "        #update r\n",
    "        traffic_model = new_updateR(Traj, N)\n",
    "        #get the total model in 50 step\n",
    "        Total_Traj = np.append(Total_Traj, Traj, axis = 1)\n",
    "    return Total_Traj\n",
    "\n",
    "def get_T_velocity(Total_Traj):\n",
    "    \"\"\"\n",
    "    This function takes the total trajectory and returns all the average velocity\n",
    "    in an array\n",
    "    \"\"\"\n",
    "    shape = np.shape(Total_Traj)\n",
    "    velocity = np.array([])\n",
    "    #combine new velocity and old velocity\n",
    "    for i in range(1, shape[1]):\n",
    "        velocity = np.append(velocity, (ave_vel(Total_Traj, i)))\n",
    "    return velocity\n",
    "\n",
    "Total_Traj = get_Traj(traffic_model, Traj, T)\n",
    "velocity = get_T_velocity(Total_Traj)\n",
    "#set x as a series of time and plot velocity with time\n",
    "x = np.array(list(range(1, 51)))\n",
    "fig2 = plt.figure(2)\n",
    "plt.plot(x, velocity, '-b')\n",
    "plt.title(\"average speed in 50 steps with 15 cars\", fontsize = 16)\n",
    "plt.xlabel(\"Steps\", fontsize = 14)\n",
    "plt.ylabel(\"Velocity\", fontsize = 14)\n",
    "plt.show()\n",
    "#because in 15 step, the average speed get 1 and after 15 step, the speed did not change\n",
    "print(\"Question 2: it takes 14 steps for this traffic model to get an average steady speed. \")"
   ]
  },
  {
   "cell_type": "code",
   "execution_count": 78,
   "metadata": {},
   "outputs": [
    {
     "data": {
      "image/png": "[encoded data removed]",
      "text/plain": [
       "<Figure size 1080x360 with 2 Axes>"
      ]
     },
     "metadata": {
      "needs_background": "light"
     },
     "output_type": "display_data"
    },
    {
     "name": "stdout",
     "output_type": "stream",
     "text": [
      "Question 3: from two figure, we can find model with 35 cars reached the steady average speed faster. \n",
      "The maximum average speed for two model is different, which are 1 for model with 25 cars and 0.4 for model with 35 cars.\n"
     ]
    },
    {
     "data": {
      "image/png": "[encoded data removed]",
      "text/plain": [
       "<Figure size 1080x360 with 1 Axes>"
      ]
     },
     "metadata": {
      "needs_background": "light"
     },
     "output_type": "display_data"
    },
    {
     "name": "stdout",
     "output_type": "stream",
     "text": [
      "Question 3: from the 'maximum average speed for different cars in model', we can find the final average speed  is not the same for all M, The largest value of M for this model to reach the maximum speed is 25.\n"
     ]
    }
   ],
   "source": [
    "#for M = 25 and 35\n",
    "M1 = 25\n",
    "M2 = 35\n",
    "#set the initial variable\n",
    "N = 50\n",
    "T = 50\n",
    "def velocity_M(M, N, T):\n",
    "    \"\"\"\n",
    "    This function take the cars number M, the number of cells, the final step \n",
    "    for all cars and return the average velocity \n",
    "    \"\"\"\n",
    "    traffic_model = np.zeros([N,1], dtype = int)\n",
    "    traffic_model[list(range(M))] = 1\n",
    "    Traj = np.c_[([i+1 for i in range(N) if traffic_model[i] == 1])]\n",
    "    #get the performance\n",
    "    Total_Traj = get_Traj(traffic_model, Traj, T)\n",
    "    velocity = get_T_velocity(Total_Traj)\n",
    "    return velocity\n",
    "\n",
    "velocity_M25 = velocity_M(M1, N, T)\n",
    "velocity_M35 = velocity_M(M2, N, T)\n",
    "#set x as a series of time and plot velocity with time\n",
    "x = np.array(list(range(1, 51)))\n",
    "fig2 = plt.figure(2, figsize = [15,5])\n",
    "#plot performance with M = 25\n",
    "ax1 = fig2.add_subplot(121)\n",
    "ax1.plot(x, velocity_M25, '-b')\n",
    "ax1.set_title(\"average speed in 50 steps with 25 cars\", fontsize = 16)\n",
    "ax1.set_xlabel(\"Steps\", fontsize = 14)\n",
    "ax1.set_ylabel(\"Velocity\", fontsize = 14)\n",
    "#plot performance with M = 35\n",
    "ax1 = fig2.add_subplot(122)\n",
    "ax1.plot(x, velocity_M35, '-b')\n",
    "ax1.set_title(\"average speed in 50 steps with 35 cars\", fontsize = 16)\n",
    "ax1.set_xlabel(\"Steps\", fontsize = 14)\n",
    "ax1.set_ylabel(\"Velocity\", fontsize = 14)\n",
    "plt.show()\n",
    "#This is discuss for two model\n",
    "print(\"Question 3: from two figure, we can find model with 35 cars reached the steady average speed faster. \\n\",\n",
    "     \"The maximum average speed for two model is different, which are 1 for model with 25 cars and 0.4 for model with 35 cars.\",\n",
    "      sep = \"\")\n",
    "# maximum average speed for different cars in model\n",
    "def max_velocity_M(M, N, T):\n",
    "    \"\"\"\n",
    "    This function takes the number of celss and return the model performance with different \n",
    "    cars in cell. The number of cars is within the number of cells\n",
    "    \"\"\"\n",
    "    temp = np.array([])\n",
    "    for M in range(1, N+1):\n",
    "        temp = np.append(temp, np.max(velocity_M(M, N, T)))\n",
    "    return temp\n",
    "\n",
    "vel_diff = max_velocity_M(M, N, T)\n",
    "fig3 = plt.figure(3, figsize = [15, 5])\n",
    "ax1 = fig3.add_subplot(111)\n",
    "ax1.plot(x, vel_diff, '-b')\n",
    "ax1.set_title(\"maximum average speed for different cars in model\", fontsize = 16)\n",
    "ax1.set_xlabel(\"carNumbers\", fontsize = 14)\n",
    "ax1.set_ylabel(\"maxVelocity\", fontsize = 14)\n",
    "plt.show()\n",
    "#discuss\n",
    "print(\"Question 3: from the 'maximum average speed for different cars in model', we can find the final average speed \",\n",
    "     \"is not the same for all M, The largest value of M for this model to reach the maximum speed is 25.\")"
   ]
  },
  {
   "cell_type": "markdown",
   "metadata": {},
   "source": [
    "4) Does the average speed of the cars depend on their initial configuration? To answer this question, initally fill $M = 20$ cars in $N=50$ cells in three different ways:\n",
    "\n",
    "a) Fill the first 20 cells with 20 cars.\n",
    "\n",
    "b) Use `random.sample(range(0,N),M)` to randomly distribute the cars (you will need to import `random` to use this function).\n",
    "\n",
    "c) Put them in pairs with one cell space between the pairs. That is, fill the cells 1,2,4,5,7,8,10,11,... \n",
    "\n",
    "Plot the average speed of the cars as a function of time up to $T=50$ for each case and discuss the results.\n",
    "\n",
    "5) Repeat the previous question for $M = 30$ cars. Does the average speed reach the same limit?"
   ]
  },
  {
   "cell_type": "code",
   "execution_count": 79,
   "metadata": {},
   "outputs": [
    {
     "data": {
      "image/png": "[encoded data removed]",
      "text/plain": [
       "<Figure size 1080x360 with 3 Axes>"
      ]
     },
     "metadata": {
      "needs_background": "light"
     },
     "output_type": "display_data"
    },
    {
     "name": "stdout",
     "output_type": "stream",
     "text": [
      "Question 4: from the 3 tables below, we can find that although the steady average speed is the samethe begining velocities are different and the increasing pattern is different. \n",
      "So, we can conculde that the average speed of the cars depend on their initial configuration.\n"
     ]
    }
   ],
   "source": [
    "import random\n",
    "def vel_diff_cfg(traffic_model, T):\n",
    "    N = len(traffic_model)\n",
    "    Traj = np.c_[([i+1 for i in range(N) if traffic_model[i] == 1])]\n",
    "    Total_Traj = get_Traj(traffic_model, Traj, T)\n",
    "    velocity = get_T_velocity(Total_Traj)\n",
    "    return velocity\n",
    "\n",
    "N = 50\n",
    "M = 20\n",
    "T = 50\n",
    "#get 3 different initial model configuration\n",
    "tra_cfgA = np.zeros([N,1], dtype = int)\n",
    "tra_cfgA[list(range(M))] = 1\n",
    "\n",
    "tra_cfgB = np.zeros([N,1], dtype = int)\n",
    "tra_cfgB[random.sample(range(0, N), M)] = 1\n",
    "#get pairs wieh one cell space\n",
    "pairs = np.array([], dtype = int)\n",
    "i = 1\n",
    "while len(pairs) < M:\n",
    "    if i % 3 != 0:\n",
    "        pairs = np.append(pairs, i)\n",
    "    i += 1\n",
    "tra_cfgC = np.zeros([N,1], dtype = int)\n",
    "tra_cfgC[pairs] = 1\n",
    "\n",
    "vel_cfgA = vel_diff_cfg(tra_cfgA, T)\n",
    "vel_cfgB = vel_diff_cfg(tra_cfgB, T)\n",
    "vel_cfgC = vel_diff_cfg(tra_cfgC, T)\n",
    "\n",
    "#plot average speed of the cars in three cases\n",
    "x = np.array(list(range(1, 51)))\n",
    "fig4 = plt.figure(4, [15, 5])\n",
    "ax1 = fig4.add_subplot(131)\n",
    "ax1.plot(x, vel_cfgA, '-b')\n",
    "ax1.set_title(\"average speed in configuration A\", fontsize = 16)\n",
    "ax1.set_xlabel(\"Steps\", fontsize = 14)\n",
    "ax1.set_ylabel(\"Velocity\", fontsize = 14)\n",
    "\n",
    "ax2 = fig4.add_subplot(132)\n",
    "ax2.plot(x, vel_cfgB, '-b')\n",
    "ax2.set_title(\"average speed in configuration B\", fontsize = 16)\n",
    "ax2.set_xlabel(\"Steps\", fontsize = 14)\n",
    "ax2.set_ylabel(\"Velocity\", fontsize = 14)\n",
    "\n",
    "ax3 = fig4.add_subplot(133)\n",
    "ax3.plot(x, vel_cfgC, '-b')\n",
    "ax3.set_title(\"average speed in configuration C\", fontsize = 16)\n",
    "ax3.set_xlabel(\"Steps\", fontsize = 14)\n",
    "ax3.set_ylabel(\"Velocity\", fontsize = 14)\n",
    "plt.show()\n",
    "#discuss\n",
    "print(\"Question 4: from the 3 tables below, we can find that although the steady average speed is the same\",\n",
    "     \"the begining velocities are different and the increasing pattern is different. \\n\",\n",
    "     \"So, we can conculde that the average speed of the cars depend on their initial configuration.\", sep = \"\")"
   ]
  },
  {
   "cell_type": "code",
   "execution_count": 80,
   "metadata": {},
   "outputs": [
    {
     "data": {
      "image/png": "[encoded data removed]",
      "text/plain": [
       "<Figure size 1080x360 with 3 Axes>"
      ]
     },
     "metadata": {
      "needs_background": "light"
     },
     "output_type": "display_data"
    },
    {
     "name": "stdout",
     "output_type": "stream",
     "text": [
      "Question 5: these three models reach a different limit to the model with 20 cars and the limit velocity is 0.67.\n",
      "From another aspect, These three models reach the same limit.\n"
     ]
    }
   ],
   "source": [
    "N = 50\n",
    "M = 30\n",
    "T = 50\n",
    "#get 3 different initial model configuration with new car number 30\n",
    "tra_cfgD = np.zeros([N,1], dtype = int)\n",
    "tra_cfgD[list(range(M))] = 1\n",
    "\n",
    "tra_cfgE = np.zeros([N,1], dtype = int)\n",
    "tra_cfgE[random.sample(range(0, N), M)] = 1\n",
    "#get pairs wieh one cell space\n",
    "pairs = np.array([], dtype = int)\n",
    "i = 1\n",
    "while len(pairs) < M:\n",
    "    if i % 3 != 0:\n",
    "        pairs = np.append(pairs, i)\n",
    "    i += 1\n",
    "tra_cfgF = np.zeros([N,1], dtype = int)\n",
    "tra_cfgF[pairs] = 1\n",
    "\n",
    "vel_cfgD = vel_diff_cfg(tra_cfgD, T)\n",
    "vel_cfgE= vel_diff_cfg(tra_cfgE, T)\n",
    "vel_cfgF = vel_diff_cfg(tra_cfgF, T)\n",
    "\n",
    "#plot average speed of the cars in three cases\n",
    "x = np.array(list(range(1, 51)))\n",
    "fig5 = plt.figure(5, [15, 5])\n",
    "ax1 = fig5.add_subplot(131)\n",
    "ax1.plot(x, vel_cfgD, '-b')\n",
    "ax1.set_title(\"average speed in configuration D\", fontsize = 16)\n",
    "ax1.set_xlabel(\"Steps\", fontsize = 14)\n",
    "ax1.set_ylabel(\"Velocity\", fontsize = 14)\n",
    "\n",
    "ax2 = fig5.add_subplot(132)\n",
    "ax2.plot(x, vel_cfgE, '-b')\n",
    "ax2.set_title(\"average speed in configuration E\", fontsize = 16)\n",
    "ax2.set_xlabel(\"Steps\", fontsize = 14)\n",
    "ax2.set_ylabel(\"Velocity\", fontsize = 14)\n",
    "\n",
    "ax3 = fig5.add_subplot(133)\n",
    "ax3.plot(x, vel_cfgF, '-b')\n",
    "ax3.set_title(\"average speed in configuration F\", fontsize = 16)\n",
    "ax3.set_xlabel(\"Steps\", fontsize = 14)\n",
    "ax3.set_ylabel(\"Velocity\", fontsize = 14)\n",
    "plt.show()\n",
    "#discuss\n",
    "print(\"Question 5: these three models reach a different limit to the model with 20 cars and the limit velocity is 0.67.\\n\",\n",
    "     \"From another aspect, These three models reach the same limit.\", sep = \"\")"
   ]
  },
  {
   "cell_type": "markdown",
   "metadata": {},
   "source": [
    "6) How does the number of cars affect the final average speed? In other words, we want to see how traffic fluidity depends on how busy the road is. Use `scipy.stats.bernoulli.rvs(p, size=N) ` to fill each cell in the inital configuration (see workshop 5 if you are not familiar with this function). This means the chance of having a car in a cell is `p`.  Therefore, if `N` is large enough, you expect to have `N*p` cars on the road. Set $N=800$, vary `p` from $0.2$ to $0.8$, and plot the average speed of cars at `T=200` as a function of `p`. Comment on the results. How does the number of cars affect their final average speed?\n",
    "\n",
    "7) Repeat the last question for $N=50$ and $N = 2000$. Do the results change? Why?"
   ]
  },
  {
   "cell_type": "code",
   "execution_count": 81,
   "metadata": {},
   "outputs": [
    {
     "data": {
      "image/png": "[encoded data removed]",
      "text/plain": [
       "<Figure size 1080x360 with 1 Axes>"
      ]
     },
     "metadata": {
      "needs_background": "light"
     },
     "output_type": "display_data"
    },
    {
     "name": "stdout",
     "output_type": "stream",
     "text": [
      "Question 6: from the figure, we can find with the higher p, the final average speed is smaller which means the road is more crowded.\n",
      "The road's maximum capacity is the number of half cells, within the capacity, the average speed can reach the maximum. For more than half cells number cars, the road can not provide enough space between all cars which means there must be cars waiting behind another cars.\n",
      "The more cars in the road, the more waiting cars and the less final average speed.\n"
     ]
    }
   ],
   "source": [
    "import scipy.stats as st\n",
    "\n",
    "T = 200\n",
    "N = 800\n",
    "p = list(np.arange(0.2, 0.8, 0.1))\n",
    "def get_vel_p(p, T, N):\n",
    "    \"\"\"\n",
    "    This function takes probability p and return the velocity at T in each p \n",
    "    based on bernoulli distribution\n",
    "    \"\"\"\n",
    "    vel = np.array([])\n",
    "    for i in p:\n",
    "        #get random car model based on different probability\n",
    "        r = np.c_[st.bernoulli.rvs(i, size = N)]\n",
    "        #get the final average velocity\n",
    "        vel = np.append(vel, vel_diff_cfg(r, T)[-1])\n",
    "    return vel\n",
    "\n",
    "vel_N800 = get_vel_p(p, T, N)\n",
    "#make plot\n",
    "fig6 = plt.figure(6, figsize = [15, 5])\n",
    "ax1 = fig6.add_subplot(111)\n",
    "ax1.plot(p, vel_N800, '-b')\n",
    "ax1.set_title(\"average speed in different probability\", fontsize = 16)\n",
    "ax1.set_xlabel(\"p\", fontsize = 14)\n",
    "ax1.set_ylabel(\"Velocity at time T\", fontsize = 14)\n",
    "plt.show()\n",
    "#comment and discuss\n",
    "print(\"Question 6: from the figure, we can find with the higher p, the final average speed is smaller which means the road is more crowded.\\n\",\n",
    "     \"The road's maximum capacity is the number of half cells, within the capacity, the average speed can reach the maximum. \",\n",
    "     \"For more than half cells number cars, the road can not provide enough space between all cars \",\n",
    "     \"which means there must be cars waiting behind another cars.\\n\",\n",
    "     \"The more cars in the road, the more waiting cars and the less final average speed.\", sep = \"\")"
   ]
  },
  {
   "cell_type": "code",
   "execution_count": 82,
   "metadata": {},
   "outputs": [
    {
     "data": {
      "image/png": "[encoded data removed]",
      "text/plain": [
       "<Figure size 1080x360 with 2 Axes>"
      ]
     },
     "metadata": {
      "needs_background": "light"
     },
     "output_type": "display_data"
    },
    {
     "name": "stdout",
     "output_type": "stream",
     "text": [
      "Question 7: the results changed. when we simulate for multiple times, we can find there exist some cases that the final average velocity in the model with 50 cells does not decrease when the p increases. For instance, the final velocity at p=0.6 is greater than p=0.5, but final velocity in the model of 20000 cells is always decrease.\n",
      "This is due to the small cardinal number, since there is only 50 cells, so the number of cars with p=0.5 is probably greater than the number of cars with p=0.6\n"
     ]
    }
   ],
   "source": [
    "# test N = 50\n",
    "N1 = 50\n",
    "vel_N50 = get_vel_p(p, T, N1)\n",
    "fig7 = plt.figure(7, figsize = [15, 5])\n",
    "ax1 = fig7.add_subplot(121)\n",
    "ax1.plot(p, vel_N50, '-b')\n",
    "ax1.set_title(\"average speed in different probability with 50 cells\", fontsize = 16)\n",
    "ax1.set_xlabel(\"p\", fontsize = 14)\n",
    "ax1.set_ylabel(\"Velocity at time T\", fontsize = 14)\n",
    "#test N = 2000\n",
    "N2 = 2000\n",
    "vel_N2000 = get_vel_p(p, T, N2)\n",
    "ax2 = fig7.add_subplot(122)\n",
    "ax2.plot(p, vel_N2000, '-b')\n",
    "ax2.set_title(\"average speed in different probability with 2000 cells\", fontsize = 16)\n",
    "ax2.set_xlabel(\"p\", fontsize = 14)\n",
    "ax2.set_ylabel(\"Velocity at time T\", fontsize = 14)\n",
    "plt.show()\n",
    "#discuss\n",
    "print(\"Question 7: the results changed. when we simulate for multiple times, we can find there exist some cases that the final average \",\n",
    "     \"velocity in the model with 50 cells does not decrease when the p increases. \",\n",
    "     \"For instance, the final velocity at p=0.6 is greater than p=0.5, but final velocity in the model of 20000 cells \",\n",
    "     \"is always decrease.\\n\",\n",
    "     \"This is due to the small cardinal number, since there is only 50 cells, so the number of cars with p=0.5 is \",\n",
    "     \"probably greater than the number of cars with p=0.6\", sep = \"\")"
   ]
  },
  {
   "cell_type": "markdown",
   "metadata": {},
   "source": [
    "---"
   ]
  },
  {
   "cell_type": "markdown",
   "metadata": {},
   "source": [
    "### Task 2c - Fast and slow cars"
   ]
  },
  {
   "cell_type": "markdown",
   "metadata": {},
   "source": [
    "Now imagine there are two types of cars on our road: fast cars who want to move with the speed of 2 cells per step if there are enough spaces in front of them, and the slow cars who always move with the speed of 1 cell per step as in the previous task. If there are less than two free cells in front of the fast cars, they either move one cell per step or don't move at all (like slow cars).\n",
    "\n",
    "1) Numbering your cells from $1$ to $N=100$, put all fast cars initially in the prime indexed cells and the cells in the interval $(60,85]$. Now plot the position of the cars in the time interval $t=[0, 60]$. Do you think a part of road will stay congested forever? In which direction is the congested part of the traffic flow moving?\n",
    "\n",
    "(You will find it helpful to construct a new function to help **`new_position2(r,Traj,Vel)`**, where the new vector `Vel` stores the velocity of each car)."
   ]
  },
  {
   "cell_type": "code",
   "execution_count": 83,
   "metadata": {},
   "outputs": [
    {
     "data": {
      "image/png": "[encoded data removed]",
      "text/plain": [
       "<Figure size 576x576 with 1 Axes>"
      ]
     },
     "metadata": {
      "needs_background": "light"
     },
     "output_type": "display_data"
    },
    {
     "name": "stdout",
     "output_type": "stream",
     "text": [
      "Question 1: the part of congested road will stay congested forever.\n",
      "The congested part is moving from final cell to the begining cell\n"
     ]
    }
   ],
   "source": [
    "#assuming that all the chunks before are run in sequence.\n",
    "N = 100\n",
    "T = 60\n",
    "#create a model with primes number and (60,85] is 1\n",
    "traffic_model = np.zeros([N, 1])\n",
    "prime = primes(list(range(2, 101)))\n",
    "##because index start from 0, so make prime minus 1\n",
    "prime = list(np.array(prime) - 1)\n",
    "traffic_model[prime] = 1\n",
    "traffic_model[60:84] = 1\n",
    "Traj = np.c_[([i+1 for i in range(N) if traffic_model[i] == 1])]\n",
    "\n",
    "def new_position2(traffic_model, Traj):\n",
    "    \"\"\"\n",
    "    This function is the improved version of new_position(r, Traj), it can process the car which speed\n",
    "    is more than 1. This function takes traffic vector, trajectory and velocity for each cars and returns\n",
    "    new Traj and new Vel\n",
    "    \"\"\"\n",
    "    l = len(traffic_model)\n",
    "    N = len(Traj)\n",
    "    Vel = np.zeros(Traj.shape)\n",
    "    #check the index in Traj\n",
    "    for i in range(N):\n",
    "        #check whether is the final cell or second final cell\n",
    "        if Traj[i] % l != 0 and Traj[i] % l != l-1:\n",
    "            #check whether the cell in current position has car\n",
    "            if traffic_model[Traj[i] % l - 1] == 1:\n",
    "                # check whether there is car in next position\n",
    "                if traffic_model[Traj[i] % l] == 0:\n",
    "                    #check whether there is car in next position\n",
    "                    if traffic_model[Traj[i] % l + 1] == 0:\n",
    "                        Traj[i] += 2\n",
    "                        Vel[i] += 2\n",
    "                    else:\n",
    "                        Traj[i] += 1\n",
    "                        Vel[i] += 1\n",
    "        elif Traj[i] % l == 0:\n",
    "            #check whether there is car in final cell\n",
    "            if traffic_model[-1] == 1:\n",
    "                if traffic_model[0] == 0:\n",
    "                    if traffic_model[1] == 0:\n",
    "                        Traj[i] += 2\n",
    "                        Vel[i] += 2\n",
    "                    else:\n",
    "                        Traj[i] += 1\n",
    "                        Vel[i] += 1\n",
    "        elif Traj[i] % l == l-1:\n",
    "            if traffic_model[-2] == 1:\n",
    "                if traffic_model[-1] == 0:\n",
    "                    if traffic_model[0] == 0:\n",
    "                        Traj[i] += 2\n",
    "                        Vel[i] += 2\n",
    "                    else:\n",
    "                        Traj[i] += 1\n",
    "                        Vel[i] += 1\n",
    "                        \n",
    "    return Traj, Vel\n",
    "# from the loop, get the updated traffic model from 0-T\n",
    "T_tra_md = traffic_model.copy()\n",
    "for i in range(T):\n",
    "    new_Traj, new_Vel = new_position2(traffic_model, Traj)\n",
    "    traffic_model = new_updateR(new_Traj, N)\n",
    "    T_tra_md = np.append(T_tra_md, traffic_model, axis = 1)\n",
    "#plot the figrue\n",
    "fig8 = plt.figure(8, figsize = [8, 8])\n",
    "ax1 = fig8.add_subplot(111)\n",
    "ax1.imshow(T_tra_md, cmap = \"Greys\",\n",
    "           extent = [0, 60, 100, 0])\n",
    "ax1.set_title(\"Car position plot\", fontsize = 16)\n",
    "ax1.set_xlabel(\"Steps\", fontsize = 14)\n",
    "ax1.set_ylabel(\"Cell number\", fontsize = 14)\n",
    "plt.show()\n",
    "#discuss\n",
    "print(\"Question 1: the part of congested road will stay congested forever.\\n\",\n",
    "     \"The congested part is moving from final cell to the begining cell\", sep = \"\")"
   ]
  },
  {
   "cell_type": "markdown",
   "metadata": {},
   "source": [
    "2) Now put fast cars initially in the prime indexed cells only like those in the last question, but this time make the last car (in cell 97) slow (i.e. moving only one cell per step). How does this car affect the whole traffic flow?\n",
    "\n",
    "3) By running the simulation up to $T = 100$, calculate the average velocity of the cars at this final time."
   ]
  },
  {
   "cell_type": "code",
   "execution_count": 84,
   "metadata": {},
   "outputs": [
    {
     "data": {
      "image/png": "[encoded data removed]",
      "text/plain": [
       "<Figure size 576x576 with 1 Axes>"
      ]
     },
     "metadata": {
      "needs_background": "light"
     },
     "output_type": "display_data"
    },
    {
     "name": "stdout",
     "output_type": "stream",
     "text": [
      "Question 2: The slow car decide how fast the traffic speed.\n"
     ]
    }
   ],
   "source": [
    "#assuming that all the chunks before are run in sequence.\n",
    "N = 100\n",
    "T = 60\n",
    "#create a model with primes number and (60,85] is 1\n",
    "traffic_model = np.zeros([N, 1])\n",
    "prime = primes(list(range(2, 101)))\n",
    "##because index start from 0, so make prime minus 1\n",
    "prime = list(np.array(prime) - 1)\n",
    "traffic_model[prime] = 1\n",
    "Traj = np.c_[([i+1 for i in range(N) if traffic_model[i] == 1])]\n",
    "Vel = np.ones(Traj.shape) * 2\n",
    "Vel[-1] = 1\n",
    "def new_position3(traffic_model, Traj, Vel):\n",
    "    \"\"\"\n",
    "    This function can process the slow cars and fast cars. Given the traffic model ,trajector and \n",
    "    the type of cars and return the new Traj\n",
    "    \"\"\"\n",
    "    l = len(traffic_model)\n",
    "    N = len(Traj)\n",
    "    #check the index in Traj\n",
    "    for i in range(N):\n",
    "        #check whether is the final cell or second final cell\n",
    "        if Traj[i] % l != 0 and Traj[i] % l != l-1:\n",
    "            Traj = update_pos(Traj[i] % l - 1, Traj[i] % l, Traj[i] % l + 1,\n",
    "                              traffic_model, Traj, i, Vel[i])\n",
    "        elif Traj[i] % l == 0:\n",
    "            Traj = update_pos(-1, 0, 1, traffic_model, Traj, i , Vel[i])\n",
    "        elif Traj[i] % l == l-1:\n",
    "            Traj = update_pos(-2, -1, 0, traffic_model, Traj, i , Vel[i])\n",
    "                        \n",
    "    return Traj\n",
    "\n",
    "def update_pos(first, second, third, traffic_model, Traj, i, n):\n",
    "    \"\"\"\n",
    "    This function takes three position, traffic_model, Traj, velocity of individual car\n",
    "    and returns the updated Traj\n",
    "    \"\"\"\n",
    "    if n == 2:\n",
    "        #check whether the cell in current position has car\n",
    "        if traffic_model[first] == 1:\n",
    "            # check whether there is car in next position\n",
    "            if traffic_model[second] == 0:\n",
    "                #check whether there is car in next position\n",
    "                if traffic_model[third] == 0:\n",
    "                    Traj[i] += 2\n",
    "                else:\n",
    "                    Traj[i] += 1\n",
    "    elif n == 1:\n",
    "        #check whether the cell in current position has car\n",
    "        if traffic_model[first] == 1:\n",
    "            # check whether there is car in next position\n",
    "            if traffic_model[second] == 0:\n",
    "                Traj[i] += 1\n",
    "    return Traj\n",
    "#get total traffic model\n",
    "T_tra_md = traffic_model.copy()\n",
    "for i in range(T):\n",
    "    new_Traj = new_position3(traffic_model, Traj, Vel)\n",
    "    traffic_model = new_updateR(new_Traj, N)\n",
    "    T_tra_md = np.append(T_tra_md, traffic_model, axis = 1)\n",
    "\n",
    "fig9 = plt.figure(9, [8, 8])\n",
    "ax1 = fig9.add_subplot(111)\n",
    "ax1.imshow(T_tra_md, cmap = \"Greys\",\n",
    "           extent = [0, T, N, 0])\n",
    "ax1.set_title(\"Car position plot\", fontsize = 16)\n",
    "ax1.set_xlabel(\"Steps\", fontsize = 14)\n",
    "ax1.set_ylabel(\"Cell number\", fontsize = 14)\n",
    "plt.show()\n",
    "#discuss\n",
    "print(\"Question 2: The slow car decide how fast the traffic speed.\")"
   ]
  },
  {
   "cell_type": "code",
   "execution_count": 86,
   "metadata": {},
   "outputs": [
    {
     "name": "stdout",
     "output_type": "stream",
     "text": [
      "Question 3: the average velocity at the final time 100 is 1.0\n"
     ]
    }
   ],
   "source": [
    "T = 100\n",
    "#create a model with primes number and (60,85] is 1\n",
    "traffic_model = np.zeros([N, 1])\n",
    "prime = primes(list(range(2, 101)))\n",
    "##because index start from 0, so make prime minus 1\n",
    "prime = list(np.array(prime) - 1)\n",
    "traffic_model[prime] = 1\n",
    "Traj = np.c_[([i+1 for i in range(N) if traffic_model[i] == 1])]\n",
    "Vel = np.ones(Traj.shape) * 2\n",
    "Vel[-1] = 1\n",
    "\n",
    "#get total traffic model\n",
    "T_tra_md = traffic_model.copy()\n",
    "for i in range(T):\n",
    "    new_Traj = new_position3(traffic_model, Traj, Vel)\n",
    "    traffic_model = new_updateR(new_Traj, N)\n",
    "    T_tra_md = np.append(T_tra_md, traffic_model, axis = 1)\n",
    "\n",
    "velocity = get_velocity(T_tra_md[:,T])\n",
    "print(\"Question 3: the average velocity at the final time 100 is\", velocity)"
   ]
  }
 ],
 "metadata": {
  "kernelspec": {
   "display_name": "Python 3",
   "language": "python",
   "name": "python3"
  },
  "language_info": {
   "codemirror_mode": {
    "name": "ipython",
    "version": 3
   },
   "file_extension": ".py",
   "mimetype": "text/x-python",
   "name": "python",
   "nbconvert_exporter": "python",
   "pygments_lexer": "ipython3",
   "version": "3.7.6"
  }
 },
 "nbformat": 4,
 "nbformat_minor": 2
}
